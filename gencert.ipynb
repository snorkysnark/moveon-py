{
 "cells": [
  {
   "cell_type": "code",
   "execution_count": 1,
   "id": "90f1be37",
   "metadata": {},
   "outputs": [],
   "source": [
    "import subprocess"
   ]
  },
  {
   "cell_type": "markdown",
   "id": "2eadff89",
   "metadata": {},
   "source": [
    "# Запустить в терминале:\n",
    "```bash\n",
    "openssl req -nodes -new -x509 -keyout moveon-new.key -out moveon-new.cert\n",
    "```\n",
    "\n",
    "## Обязательно ввести почту\n",
    "```\n",
    "Generating a RSA private key\n",
    "....................................+++++\n",
    "...........................+++++\n",
    "writing new private key to 'moveon-new.key'\n",
    "-----\n",
    "You are about to be asked to enter information that will be incorporated\n",
    "into your certificate request.\n",
    "What you are about to enter is what is called a Distinguished Name or a DN.\n",
    "There are quite a few fields but you can leave some blank\n",
    "For some fields there will be a default value,\n",
    "If you enter '.', the field will be left blank.\n",
    "-----\n",
    "Country Name (2 letter code) [AU]:  \n",
    "State or Province Name (full name) [Some-State]:\n",
    "Locality Name (eg, city) []:\n",
    "Organization Name (eg, company) [Internet Widgits Pty Ltd]:\n",
    "Organizational Unit Name (eg, section) []:\n",
    "Common Name (e.g. server FQDN or YOUR name) []:\n",
    "Email Address []:foobar@gmail.com\n",
    "```"
   ]
  },
  {
   "cell_type": "code",
   "execution_count": 2,
   "id": "77bd8a7b",
   "metadata": {},
   "outputs": [],
   "source": [
    "def strip_label(output_string):\n",
    "    \"Remove a label, such as serial=\"\n",
    "    return output_string[output_string.index(\"=\") + 1 :]"
   ]
  },
  {
   "cell_type": "code",
   "execution_count": 3,
   "id": "36c57a0d",
   "metadata": {},
   "outputs": [],
   "source": [
    "def get_serial_number(cert_path):\n",
    "    output = (\n",
    "        subprocess.check_output(\n",
    "            [\"openssl\", \"x509\", \"-in\", cert_path, \"-serial\", \"-noout\"],\n",
    "            text=True\n",
    "        )\n",
    "    ).strip()\n",
    "    return strip_label(output)"
   ]
  },
  {
   "cell_type": "code",
   "execution_count": 4,
   "id": "0e9fb303",
   "metadata": {},
   "outputs": [],
   "source": [
    "def get_hash(cert_path):\n",
    "    output = subprocess.check_output(\n",
    "        [\n",
    "            \"openssl\",\n",
    "            \"x509\",\n",
    "            \"-noout\",\n",
    "            \"-fingerprint\",\n",
    "            \"-sha256\",\n",
    "            \"-inform\",\n",
    "            \"pem\",\n",
    "            \"-in\",\n",
    "            cert_path,\n",
    "        ],\n",
    "        text=True,\n",
    "    ).strip()\n",
    "    return strip_label(output).replace(':', '').lower()"
   ]
  },
  {
   "cell_type": "code",
   "execution_count": 5,
   "id": "3cc757f7",
   "metadata": {},
   "outputs": [
    {
     "data": {
      "text/plain": [
       "'37641DE040D3A0859FA0477B5603788357B6EDD7'"
      ]
     },
     "execution_count": 5,
     "metadata": {},
     "output_type": "execute_result"
    }
   ],
   "source": [
    "get_serial_number('moveon-new.cert')"
   ]
  },
  {
   "cell_type": "code",
   "execution_count": 6,
   "id": "27fbc51d",
   "metadata": {},
   "outputs": [
    {
     "data": {
      "text/plain": [
       "'3a06d37b4efe858e44c942258b751580f15db463122367f056d8849c14e5a685'"
      ]
     },
     "execution_count": 6,
     "metadata": {},
     "output_type": "execute_result"
    }
   ],
   "source": [
    "get_hash('moveon-new.cert')"
   ]
  },
  {
   "cell_type": "code",
   "execution_count": null,
   "id": "133790cb",
   "metadata": {},
   "outputs": [],
   "source": []
  }
 ],
 "metadata": {
  "kernelspec": {
   "display_name": "Python 3 (ipykernel)",
   "language": "python",
   "name": "python3"
  },
  "language_info": {
   "codemirror_mode": {
    "name": "ipython",
    "version": 3
   },
   "file_extension": ".py",
   "mimetype": "text/x-python",
   "name": "python",
   "nbconvert_exporter": "python",
   "pygments_lexer": "ipython3",
   "version": "3.10.4"
  }
 },
 "nbformat": 4,
 "nbformat_minor": 5
}
