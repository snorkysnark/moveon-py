{
 "cells": [
  {
   "cell_type": "code",
   "execution_count": 1,
   "id": "fe526084",
   "metadata": {},
   "outputs": [],
   "source": [
    "import httpx\n",
    "from moveon import MoveonClient"
   ]
  },
  {
   "cell_type": "code",
   "execution_count": 2,
   "id": "9d72bdd9",
   "metadata": {
    "scrolled": true
   },
   "outputs": [],
   "source": [
    "client = MoveonClient(\n",
    "    \"https://urfu02-api.moveonru.com/restService/index.php?version=3.0\",\n",
    "    httpx.AsyncClient(cert=(\"moveon.cert\", \"moveon.key\")),\n",
    ")"
   ]
  },
  {
   "cell_type": "code",
   "execution_count": 3,
   "id": "b57b5da2",
   "metadata": {},
   "outputs": [],
   "source": [
    "def list_contacts_template(\n",
    "    visible_columns=\"\",\n",
    "   contact_id = None,\n",
    "   institution_id=None\n",
    "):\n",
    "    rules = []\n",
    "    if contact_id:\n",
    "        rules.append({\n",
    "            \"field\": \"contact.id\",\n",
    "            \"op\": \"eq\",\n",
    "            \"data\": contact_id\n",
    "        })\n",
    "    if institution_id:\n",
    "        rules.append({\n",
    "            \"field\": \"contact.institution_id\",\n",
    "            \"op\": \"eq\",\n",
    "            \"data\": institution_id\n",
    "        })\n",
    "\n",
    "    return {\n",
    "        \"entity\": \"contact\",\n",
    "        \"action\": \"list\",\n",
    "        \"data\": {\n",
    "            \"filters\": {\n",
    "                \"groupOp\": \"AND\",\n",
    "                \"rules\": rules,\n",
    "            },\n",
    "            \"visibleColumns\": visible_columns,\n",
    "            \"locale\": \"eng\",\n",
    "            \"sidx\": \"contact.id\",\n",
    "            \"sord\": \"asc\",\n",
    "            \"_search\": \"true\" if len(rules) > 0 else \"false\",\n",
    "            \"page\": 1,\n",
    "            \"rows\": 100,\n",
    "        },\n",
    "    }"
   ]
  },
  {
   "cell_type": "code",
   "execution_count": 4,
   "id": "2fcda7f4",
   "metadata": {
    "scrolled": true
   },
   "outputs": [
    {
     "data": {
      "text/plain": [
       "['contact.id',\n",
       " 'contact.person_id',\n",
       " 'contact.first_name',\n",
       " 'contact.surname',\n",
       " 'contact.name',\n",
       " 'contact.function',\n",
       " 'contact.remarks',\n",
       " 'contact.responsibility',\n",
       " 'contact.department',\n",
       " 'contact.group',\n",
       " 'contact.territory',\n",
       " 'contact.created_on',\n",
       " 'contact.is_active',\n",
       " 'contact.created_by',\n",
       " 'contact.last_modified_on',\n",
       " 'contact.last_modified_by',\n",
       " 'contact.institution_id',\n",
       " 'contact.institution',\n",
       " 'customfield3',\n",
       " 'customfield4',\n",
       " 'customfield5',\n",
       " 'customfield6',\n",
       " 'customfield7',\n",
       " 'customfield8',\n",
       " 'customfield9',\n",
       " 'customfield10',\n",
       " 'customfield11',\n",
       " 'customfield12',\n",
       " 'customfield13',\n",
       " 'customfield14',\n",
       " 'customfield15',\n",
       " 'customfield16',\n",
       " 'customfield17',\n",
       " 'customfield18',\n",
       " 'customfield19',\n",
       " 'customfield20',\n",
       " 'customfield21',\n",
       " 'customfield22',\n",
       " 'customfield23',\n",
       " 'customfield24',\n",
       " 'customfield25',\n",
       " 'customfield26',\n",
       " 'customfield27',\n",
       " 'customfield28',\n",
       " 'customfield29',\n",
       " 'customfield30',\n",
       " 'customfield31',\n",
       " 'customfield32',\n",
       " 'customfield33',\n",
       " 'customfield34',\n",
       " 'customfield35',\n",
       " 'customfield36',\n",
       " 'customfield37',\n",
       " 'customfield38',\n",
       " 'customfield39',\n",
       " 'customfield40',\n",
       " 'customfield41',\n",
       " 'customfield42',\n",
       " 'customfield43',\n",
       " 'customfield44',\n",
       " 'customfield45',\n",
       " 'customfield46',\n",
       " 'customfield47',\n",
       " 'customfield48',\n",
       " 'customfield49',\n",
       " 'customfield50',\n",
       " 'customfield51',\n",
       " 'customfield52',\n",
       " 'customfield53',\n",
       " 'customfield54',\n",
       " 'customfield55',\n",
       " 'customfield56',\n",
       " 'customfield57',\n",
       " 'customfield58',\n",
       " 'customfield59',\n",
       " 'customfield60',\n",
       " 'customfield61',\n",
       " 'customfield62',\n",
       " 'customfield63',\n",
       " 'customfield64',\n",
       " 'customfield65',\n",
       " 'customfield66',\n",
       " 'customfield67',\n",
       " 'customfield68',\n",
       " 'customfield69',\n",
       " 'customfield70',\n",
       " 'customfield71',\n",
       " 'customfield72',\n",
       " 'customfield73',\n",
       " 'customfield124',\n",
       " 'customfield125',\n",
       " 'customfield128',\n",
       " 'customfield129',\n",
       " 'customfield130',\n",
       " 'customfield131',\n",
       " 'customfield132',\n",
       " 'customfield133',\n",
       " 'customfield134',\n",
       " 'customfield135',\n",
       " 'customfield136',\n",
       " 'customfield137',\n",
       " 'customfield138',\n",
       " 'customfield139',\n",
       " 'customfield140',\n",
       " 'customfield141',\n",
       " 'customfield142',\n",
       " 'customfield143',\n",
       " 'customfield144',\n",
       " 'customfield1',\n",
       " 'customfield2',\n",
       " 'customfield78']"
      ]
     },
     "execution_count": 4,
     "metadata": {},
     "output_type": "execute_result"
    }
   ],
   "source": [
    "# Все поля contact\n",
    "response = await client.queue_and_get(list_contacts_template())\n",
    "response[\"data\"][\"availableKeys\"].split(\";\")"
   ]
  },
  {
   "cell_type": "code",
   "execution_count": 4,
   "id": "0b1f2069",
   "metadata": {},
   "outputs": [],
   "source": [
    "async def find_contacts(contact_id=None, institution_id=None):\n",
    "    contact_list = []\n",
    "    async for page in client.iter_pages(\n",
    "        list_contacts_template(\n",
    "            visible_columns=\"contact.id;contact.name;contact.institution_id;contact.institution\",\n",
    "            contact_id=contact_id,\n",
    "            institution_id=institution_id,\n",
    "        )\n",
    "    ):\n",
    "        for row in page[\"data\"][\"rows\"]:\n",
    "            contact_list.append(row)\n",
    "\n",
    "    return contact_list"
   ]
  },
  {
   "cell_type": "code",
   "execution_count": 6,
   "id": "adaa9cc8",
   "metadata": {
    "scrolled": true
   },
   "outputs": [
    {
     "data": {
      "text/plain": [
       "[{'contact.id': '4286',\n",
       "  'contact.name': 'Arja, Rosenholm',\n",
       "  'contact.institution_id': '2880',\n",
       "  'contact.institution': 'Tampere University'},\n",
       " {'contact.id': '4287',\n",
       "  'contact.name': 'Elise, Feron',\n",
       "  'contact.institution_id': '2880',\n",
       "  'contact.institution': 'Tampere University'}]"
      ]
     },
     "execution_count": 6,
     "metadata": {},
     "output_type": "execute_result"
    }
   ],
   "source": [
    "await find_contacts(institution_id=2880)"
   ]
  },
  {
   "cell_type": "code",
   "execution_count": 7,
   "id": "abc8dd6a",
   "metadata": {},
   "outputs": [],
   "source": [
    "async def update_contact(contact_id, new_institution_id):\n",
    "    return await client.queue_and_get({\n",
    "        \"entity\": \"contact\",\n",
    "        \"action\": \"save\",\n",
    "        \"data\": {\n",
    "            \"entity\": \"contact\",\n",
    "            \"contact.id\": contact_id,\n",
    "            \"contact.institution_id\": new_institution_id\n",
    "        }\n",
    "    })"
   ]
  },
  {
   "cell_type": "code",
   "execution_count": 8,
   "id": "6cb11b22",
   "metadata": {},
   "outputs": [
    {
     "data": {
      "text/plain": [
       "{'data': {'id': '4286',\n",
       "  'availableKeys': 'contact.id;contact.person_id;contact.first_name;contact.surname;contact.gender_id;contact.function;contact.phone;contact.phone_2;contact.mobile;contact.fax;contact.remarks;contact.title;contact.responsibility;contact.department;contact.communication_language;contact.email;contact.groups;contact.is_active;contact.is_deleted;contact.institution_id;contact.action_date;contact.user_id'}}"
      ]
     },
     "execution_count": 8,
     "metadata": {},
     "output_type": "execute_result"
    }
   ],
   "source": [
    "# Название института обновляется автоматически при смене id\n",
    "await update_contact(contact_id=4286, new_institution_id=2883)"
   ]
  },
  {
   "cell_type": "code",
   "execution_count": 5,
   "id": "b5f5101b",
   "metadata": {
    "scrolled": true
   },
   "outputs": [
    {
     "data": {
      "text/plain": [
       "[{'contact.id': '4286',\n",
       "  'contact.name': 'Arja, Rosenholm',\n",
       "  'contact.institution_id': '2883',\n",
       "  'contact.institution': 'Tampere University'}]"
      ]
     },
     "execution_count": 5,
     "metadata": {},
     "output_type": "execute_result"
    }
   ],
   "source": [
    "await find_contacts(contact_id=4286)"
   ]
  },
  {
   "cell_type": "code",
   "execution_count": null,
   "id": "9da94c68",
   "metadata": {},
   "outputs": [],
   "source": []
  }
 ],
 "metadata": {
  "kernelspec": {
   "display_name": "Python 3 (ipykernel)",
   "language": "python",
   "name": "python3"
  },
  "language_info": {
   "codemirror_mode": {
    "name": "ipython",
    "version": 3
   },
   "file_extension": ".py",
   "mimetype": "text/x-python",
   "name": "python",
   "nbconvert_exporter": "python",
   "pygments_lexer": "ipython3",
   "version": "3.10.4"
  }
 },
 "nbformat": 4,
 "nbformat_minor": 5
}
